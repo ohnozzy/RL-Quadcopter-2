{
 "cells": [
  {
   "cell_type": "markdown",
   "metadata": {},
   "source": [
    "# Project: Train a Quadcopter How to Fly\n",
    "\n",
    "Design an agent to fly a quadcopter, and then train it using a reinforcement learning algorithm of your choice! \n",
    "\n",
    "Try to apply the techniques you have learnt, but also feel free to come up with innovative ideas and test them."
   ]
  },
  {
   "cell_type": "markdown",
   "metadata": {},
   "source": [
    "## Instructions\n",
    "\n",
    "Take a look at the files in the directory to better understand the structure of the project. \n",
    "\n",
    "- `task.py`: Define your task (environment) in this file.\n",
    "- `agents/`: Folder containing reinforcement learning agents.\n",
    "    - `policy_search.py`: A sample agent has been provided here.\n",
    "    - `agent.py`: Develop your agent here.\n",
    "- `physics_sim.py`: This file contains the simulator for the quadcopter.  **DO NOT MODIFY THIS FILE**.\n",
    "\n",
    "For this project, you will define your own task in `task.py`.  Although we have provided a example task to get you started, you are encouraged to change it.  Later in this notebook, you will learn more about how to amend this file.\n",
    "\n",
    "You will also design a reinforcement learning agent in `agent.py` to complete your chosen task.  \n",
    "\n",
    "You are welcome to create any additional files to help you to organize your code.  For instance, you may find it useful to define a `model.py` file defining any needed neural network architectures.\n",
    "\n",
    "## Controlling the Quadcopter\n",
    "\n",
    "We provide a sample agent in the code cell below to show you how to use the sim to control the quadcopter.  This agent is even simpler than the sample agent that you'll examine (in `agents/policy_search.py`) later in this notebook!\n",
    "\n",
    "The agent controls the quadcopter by setting the revolutions per second on each of its four rotors.  The provided agent in the `Basic_Agent` class below always selects a random action for each of the four rotors.  These four speeds are returned by the `act` method as a list of four floating-point numbers.  \n",
    "\n",
    "For this project, the agent that you will implement in `agents/agent.py` will have a far more intelligent method for selecting actions!"
   ]
  },
  {
   "cell_type": "code",
   "execution_count": 1,
   "metadata": {},
   "outputs": [],
   "source": [
    "import random\n",
    "\n",
    "class Basic_Agent():\n",
    "    def __init__(self, task):\n",
    "        self.task = task\n",
    "    \n",
    "    def act(self):\n",
    "        new_thrust = random.gauss(450., 25.)\n",
    "        return [new_thrust + random.gauss(0., 1.) for x in range(4)]"
   ]
  },
  {
   "cell_type": "markdown",
   "metadata": {},
   "source": [
    "Run the code cell below to have the agent select actions to control the quadcopter.  \n",
    "\n",
    "Feel free to change the provided values of `runtime`, `init_pose`, `init_velocities`, and `init_angle_velocities` below to change the starting conditions of the quadcopter.\n",
    "\n",
    "The `labels` list below annotates statistics that are saved while running the simulation.  All of this information is saved in a text file `data.txt` and stored in the dictionary `results`.  "
   ]
  },
  {
   "cell_type": "code",
   "execution_count": 2,
   "metadata": {},
   "outputs": [
    {
     "name": "stdout",
     "output_type": "stream",
     "text": [
      "reach pose:  10.001110760032608\n",
      "reach pose:  10.00444281648306\n",
      "reach pose:  10.00999534109202\n"
     ]
    }
   ],
   "source": [
    "%load_ext autoreload\n",
    "%autoreload 2\n",
    "\n",
    "import csv\n",
    "import numpy as np\n",
    "from task import Task\n",
    "\n",
    "# Modify the values below to give the quadcopter a different starting position.\n",
    "runtime = 5.                                     # time limit of the episode\n",
    "init_pose = np.array([0., 0., 10., 0., 0., 0.])  # initial pose\n",
    "init_velocities = np.array([0., 0., 0.])         # initial velocities\n",
    "init_angle_velocities = np.array([0., 0., 0.])   # initial angle velocities\n",
    "file_output = 'data.txt'                         # file name for saved results\n",
    "\n",
    "# Setup\n",
    "task = Task(init_pose, init_velocities, init_angle_velocities, runtime)\n",
    "agent = Basic_Agent(task)\n",
    "done = False\n",
    "labels = ['time', 'x', 'y', 'z', 'phi', 'theta', 'psi', 'x_velocity',\n",
    "          'y_velocity', 'z_velocity', 'phi_velocity', 'theta_velocity',\n",
    "          'psi_velocity', 'rotor_speed1', 'rotor_speed2', 'rotor_speed3', 'rotor_speed4']\n",
    "results = {x : [] for x in labels}\n",
    "\n",
    "# Run the simulation, and save the results.\n",
    "with open(file_output, 'w') as csvfile:\n",
    "    writer = csv.writer(csvfile)\n",
    "    writer.writerow(labels)\n",
    "    while True:\n",
    "        rotor_speeds = agent.act()\n",
    "        _, _, done = task.step(rotor_speeds)\n",
    "        to_write = [task.sim.time] + list(task.sim.pose) + list(task.sim.v) + list(task.sim.angular_v) + list(rotor_speeds)\n",
    "        for ii in range(len(labels)):\n",
    "            results[labels[ii]].append(to_write[ii])\n",
    "        writer.writerow(to_write)\n",
    "        if done:\n",
    "            break"
   ]
  },
  {
   "cell_type": "markdown",
   "metadata": {},
   "source": [
    "Run the code cell below to visualize how the position of the quadcopter evolved during the simulation."
   ]
  },
  {
   "cell_type": "code",
   "execution_count": 3,
   "metadata": {},
   "outputs": [
    {
     "data": {
      "image/png": "[encoded data removed]",
      "text/plain": [
       "<Figure size 432x288 with 1 Axes>"
      ]
     },
     "metadata": {},
     "output_type": "display_data"
    }
   ],
   "source": [
    "import matplotlib.pyplot as plt\n",
    "%matplotlib inline\n",
    "\n",
    "plt.plot(results['time'], results['x'], label='x')\n",
    "plt.plot(results['time'], results['y'], label='y')\n",
    "plt.plot(results['time'], results['z'], label='z')\n",
    "plt.legend()\n",
    "_ = plt.ylim()"
   ]
  },
  {
   "cell_type": "markdown",
   "metadata": {},
   "source": [
    "The next code cell visualizes the velocity of the quadcopter."
   ]
  },
  {
   "cell_type": "code",
   "execution_count": 4,
   "metadata": {},
   "outputs": [
    {
     "data": {
      "image/png": "[encoded data removed]",
      "text/plain": [
       "<Figure size 432x288 with 1 Axes>"
      ]
     },
     "metadata": {},
     "output_type": "display_data"
    }
   ],
   "source": [
    "plt.plot(results['time'], results['x_velocity'], label='x_hat')\n",
    "plt.plot(results['time'], results['y_velocity'], label='y_hat')\n",
    "plt.plot(results['time'], results['z_velocity'], label='z_hat')\n",
    "plt.legend()\n",
    "_ = plt.ylim()"
   ]
  },
  {
   "cell_type": "markdown",
   "metadata": {},
   "source": [
    "Next, you can plot the Euler angles (the rotation of the quadcopter over the $x$-, $y$-, and $z$-axes),"
   ]
  },
  {
   "cell_type": "code",
   "execution_count": 5,
   "metadata": {},
   "outputs": [
    {
     "data": {
      "image/png": "[encoded data removed]",
      "text/plain": [
       "<Figure size 432x288 with 1 Axes>"
      ]
     },
     "metadata": {},
     "output_type": "display_data"
    }
   ],
   "source": [
    "plt.plot(results['time'], results['phi'], label='phi')\n",
    "plt.plot(results['time'], results['theta'], label='theta')\n",
    "plt.plot(results['time'], results['psi'], label='psi')\n",
    "plt.legend()\n",
    "_ = plt.ylim()"
   ]
  },
  {
   "cell_type": "markdown",
   "metadata": {},
   "source": [
    "before plotting the velocities (in radians per second) corresponding to each of the Euler angles."
   ]
  },
  {
   "cell_type": "code",
   "execution_count": 6,
   "metadata": {},
   "outputs": [
    {
     "data": {
      "image/png": "[encoded data removed]",
      "text/plain": [
       "<Figure size 432x288 with 1 Axes>"
      ]
     },
     "metadata": {},
     "output_type": "display_data"
    }
   ],
   "source": [
    "plt.plot(results['time'], results['phi_velocity'], label='phi_velocity')\n",
    "plt.plot(results['time'], results['theta_velocity'], label='theta_velocity')\n",
    "plt.plot(results['time'], results['psi_velocity'], label='psi_velocity')\n",
    "plt.legend()\n",
    "_ = plt.ylim()"
   ]
  },
  {
   "cell_type": "markdown",
   "metadata": {},
   "source": [
    "Finally, you can use the code cell below to print the agent's choice of actions.  "
   ]
  },
  {
   "cell_type": "code",
   "execution_count": 7,
   "metadata": {},
   "outputs": [
    {
     "data": {
      "image/png": "[encoded data removed]",
      "text/plain": [
       "<Figure size 432x288 with 1 Axes>"
      ]
     },
     "metadata": {},
     "output_type": "display_data"
    }
   ],
   "source": [
    "plt.plot(results['time'], results['rotor_speed1'], label='Rotor 1 revolutions / second')\n",
    "plt.plot(results['time'], results['rotor_speed2'], label='Rotor 2 revolutions / second')\n",
    "plt.plot(results['time'], results['rotor_speed3'], label='Rotor 3 revolutions / second')\n",
    "plt.plot(results['time'], results['rotor_speed4'], label='Rotor 4 revolutions / second')\n",
    "plt.legend()\n",
    "_ = plt.ylim()"
   ]
  },
  {
   "cell_type": "markdown",
   "metadata": {},
   "source": [
    "When specifying a task, you will derive the environment state from the simulator.  Run the code cell below to print the values of the following variables at the end of the simulation:\n",
    "- `task.sim.pose` (the position of the quadcopter in ($x,y,z$) dimensions and the Euler angles),\n",
    "- `task.sim.v` (the velocity of the quadcopter in ($x,y,z$) dimensions), and\n",
    "- `task.sim.angular_v` (radians/second for each of the three Euler angles)."
   ]
  },
  {
   "cell_type": "code",
   "execution_count": 8,
   "metadata": {},
   "outputs": [
    {
     "name": "stdout",
     "output_type": "stream",
     "text": [
      "[-9.95536338e-05  7.83693784e-06  1.00099953e+01  1.30994960e-03\n",
      "  2.02096872e-02  0.00000000e+00]\n",
      "[-0.0060124   0.0004589   0.33312282]\n",
      "[-0.01379494  0.04806052  0.        ]\n"
     ]
    }
   ],
   "source": [
    "# the pose, velocity, and angular velocity of the quadcopter at the end of the episode\n",
    "print(task.sim.pose)\n",
    "print(task.sim.v)\n",
    "print(task.sim.angular_v)"
   ]
  },
  {
   "cell_type": "markdown",
   "metadata": {},
   "source": [
    "In the sample task in `task.py`, we use the 6-dimensional pose of the quadcopter to construct the state of the environment at each timestep.  However, when amending the task for your purposes, you are welcome to expand the size of the state vector by including the velocity information.  You can use any combination of the pose, velocity, and angular velocity - feel free to tinker here, and construct the state to suit your task.\n",
    "\n",
    "## The Task\n",
    "\n",
    "A sample task has been provided for you in `task.py`.  Open this file in a new window now. \n",
    "\n",
    "The `__init__()` method is used to initialize several variables that are needed to specify the task.  \n",
    "- The simulator is initialized as an instance of the `PhysicsSim` class (from `physics_sim.py`).  \n",
    "- Inspired by the methodology in the original DDPG paper, we make use of action repeats.  For each timestep of the agent, we step the simulation `action_repeats` timesteps.  If you are not familiar with action repeats, please read the **Results** section in [the DDPG paper](https://arxiv.org/abs/1509.02971).\n",
    "- We set the number of elements in the state vector.  For the sample task, we only work with the 6-dimensional pose information.  To set the size of the state (`state_size`), we must take action repeats into account.  \n",
    "- The environment will always have a 4-dimensional action space, with one entry for each rotor (`action_size=4`). You can set the minimum (`action_low`) and maximum (`action_high`) values of each entry here.\n",
    "- The sample task in this provided file is for the agent to reach a target position.  We specify that target position as a variable.\n",
    "\n",
    "The `reset()` method resets the simulator.  The agent should call this method every time the episode ends.  You can see an example of this in the code cell below.\n",
    "\n",
    "The `step()` method is perhaps the most important.  It accepts the agent's choice of action `rotor_speeds`, which is used to prepare the next state to pass on to the agent.  Then, the reward is computed from `get_reward()`.  The episode is considered done if the time limit has been exceeded, or the quadcopter has travelled outside of the bounds of the simulation.\n",
    "\n",
    "In the next section, you will learn how to test the performance of an agent on this task."
   ]
  },
  {
   "cell_type": "markdown",
   "metadata": {},
   "source": [
    "## The Agent\n",
    "\n",
    "The sample agent given in `agents/policy_search.py` uses a very simplistic linear policy to directly compute the action vector as a dot product of the state vector and a matrix of weights. Then, it randomly perturbs the parameters by adding some Gaussian noise, to produce a different policy. Based on the average reward obtained in each episode (`score`), it keeps track of the best set of parameters found so far, how the score is changing, and accordingly tweaks a scaling factor to widen or tighten the noise.\n",
    "\n",
    "Run the code cell below to see how the agent performs on the sample task."
   ]
  },
  {
   "cell_type": "code",
   "execution_count": 9,
   "metadata": {},
   "outputs": [],
   "source": [
    "import sys\n",
    "import pandas as pd"
   ]
  },
  {
   "cell_type": "code",
   "execution_count": 10,
   "metadata": {},
   "outputs": [
    {
     "name": "stdout",
     "output_type": "stream",
     "text": [
      "Episode = 1000, score =   3.829 (best =   3.961), noise_scale = 3.2625"
     ]
    }
   ],
   "source": [
    "\n",
    "from agents.policy_search import PolicySearch_Agent\n",
    "from task import Task\n",
    "\n",
    "num_episodes = 1000\n",
    "target_pos = np.array([0., 0., 10.])\n",
    "task = Task(target_pos=target_pos)\n",
    "agent = PolicySearch_Agent(task) \n",
    "\n",
    "for i_episode in range(1, num_episodes+1):\n",
    "    state = agent.reset_episode() # start a new episode\n",
    "    while True:\n",
    "        action = agent.act(state) \n",
    "        next_state, reward, done = task.step(action)\n",
    "        agent.step(reward, done)\n",
    "        state = next_state\n",
    "        if done:\n",
    "            print(\"\\rEpisode = {:4d}, score = {:7.3f} (best = {:7.3f}), noise_scale = {}\".format(\n",
    "                i_episode, agent.score, agent.best_score, agent.noise_scale), end=\"\")  # [debug]\n",
    "            break\n",
    "    sys.stdout.flush()"
   ]
  },
  {
   "cell_type": "markdown",
   "metadata": {},
   "source": [
    "This agent should perform very poorly on this task.  And that's where you come in!"
   ]
  },
  {
   "cell_type": "markdown",
   "metadata": {
    "collapsed": true
   },
   "source": [
    "## Define the Task, Design the Agent, and Train Your Agent!\n",
    "\n",
    "Amend `task.py` to specify a task of your choosing.  If you're unsure what kind of task to specify, you may like to teach your quadcopter to takeoff, hover in place, land softly, or reach a target pose.  \n",
    "\n",
    "After specifying your task, use the sample agent in `agents/policy_search.py` as a template to define your own agent in `agents/agent.py`.  You can borrow whatever you need from the sample agent, including ideas on how you might modularize your code (using helper methods like `act()`, `learn()`, `reset_episode()`, etc.).\n",
    "\n",
    "Note that it is **highly unlikely** that the first agent and task that you specify will learn well.  You will likely have to tweak various hyperparameters and the reward function for your task until you arrive at reasonably good behavior.\n",
    "\n",
    "As you develop your agent, it's important to keep an eye on how it's performing. Use the code above as inspiration to build in a mechanism to log/save the total rewards obtained in each episode to file.  If the episode rewards are gradually increasing, this is an indication that your agent is learning."
   ]
  },
  {
   "cell_type": "code",
   "execution_count": 17,
   "metadata": {},
   "outputs": [],
   "source": [
    "## TODO: Train your agent here.\n",
    "from agents.agent import DDPG\n",
    "from task import Task\n",
    "\n",
    "num_episodes = 1000\n",
    "target_pos = np.array([0., 0., 10.])\n",
    "init_pos = np.array([0., 0., 5.,0,0,0])\n",
    "task = Task(runtime=10, init_pose=init_pos, target_pos=target_pos)\n",
    "agent = DDPG(task) "
   ]
  },
  {
   "cell_type": "code",
   "execution_count": 18,
   "metadata": {
    "scrolled": true
   },
   "outputs": [
    {
     "name": "stdout",
     "output_type": "stream",
     "text": [
      "crash pose:  0.9119749591366086\n",
      "crash pose:  0.8110893119203154\n",
      "crash pose:  0.9536069779811721\n",
      "crash pose:  0.8566085961732702\n",
      "crash pose:  0.7564607599159088\n",
      "crash pose:  0.951755585817064\n",
      "crash pose:  0.9021274046891197\n",
      "crash pose:  0.960938646597133\n",
      "Episode =    5, total reward = -11.835, last reward= -19.565, final pos=(   0.266,   0.413,   0.961 )\n",
      "crash pose:  0.9658934492869208\n",
      "crash pose:  0.9771841711464445\n",
      "crash pose:  0.8599611551189885\n",
      "crash pose:  0.9257245862262719\n",
      "crash pose:  0.826017807428312\n",
      "crash pose:  0.949522567005743\n",
      "crash pose:  0.8525052641281462\n",
      "crash pose:  0.9449043424560393\n",
      "Episode =   10, total reward = -12.590, last reward= -19.536, final pos=(  -0.086,  -0.478,   0.945 )\n",
      "crash pose:  0.9507894541816356\n",
      "crash pose:  0.8701357746434606\n",
      "crash pose:  0.9057174456388593\n",
      "crash pose:  0.8071964263224684\n",
      "crash pose:  0.7137822387553083\n",
      "crash pose:  0.9879973952525795\n",
      "crash pose:  0.9024443162208803\n",
      "crash pose:  0.8122109954377452\n",
      "crash pose:  0.9854055276890272\n",
      "crash pose:  0.8927945646876799\n",
      "crash pose:  0.9757256586544469\n",
      "crash pose:  0.8965640212776641\n",
      "crash pose:  0.8135235741187135\n",
      "Episode =   15, total reward = -50.722, last reward= -59.518, final pos=(  -0.178,  -0.000,   0.814 )\n",
      "crash pose:  0.9563608270526557\n",
      "crash pose:  0.8771128869209434\n",
      "crash pose:  0.7937356522303707\n",
      "crash pose:  0.9445077964307487\n",
      "crash pose:  0.8514009352188935\n",
      "crash pose:  0.7526189122649869\n",
      "crash pose:  0.9250319701769061\n",
      "crash pose:  0.847401252640458\n",
      "crash pose:  0.9554364264044355\n",
      "crash pose:  0.8543825288971247\n",
      "crash pose:  0.9600417071832963\n",
      "crash pose:  0.8710349497533473\n",
      "Episode =   20, total reward = -33.594, last reward= -40.039, final pos=(   1.654,   0.493,   0.871 )\n",
      "crash pose:  0.9968471773056186\n",
      "crash pose:  0.8928743501894538\n",
      "crash pose:  0.9921607790554996\n",
      "crash pose:  0.9373651998084783\n",
      "crash pose:  0.9695842687658972\n",
      "crash pose:  0.9151042821010036\n",
      "crash pose:  0.8189747182325703\n",
      "Episode =   25, total reward = -31.946, last reward= -39.682, final pos=(  -0.375,   0.461,   0.819 )\n",
      "crash pose:  0.9574578522792537\n",
      "crash pose:  0.9976730357695623\n",
      "crash pose:  0.9381915293303018\n",
      "crash pose:  0.8733954625011912\n",
      "crash pose:  0.9371922488256732\n",
      "crash pose:  0.838895692874229\n",
      "crash pose:  0.7389084772285375\n",
      "crash pose:  0.9699510211811434\n",
      "crash pose:  0.8898485706421462\n",
      "crash pose:  0.9663200247643982\n",
      "crash pose:  0.8698175575308336\n",
      "Episode =   30, total reward = -31.200, last reward= -39.453, final pos=(  -0.036,   0.101,   0.870 )\n",
      "crash pose:  0.9729320489703119\n",
      "crash pose:  0.9454474712574977\n",
      "crash pose:  0.8498954101976922\n",
      "crash pose:  0.9970655666298385\n",
      "crash pose:  0.9080911903161241\n",
      "crash pose:  0.9226518766264897\n",
      "crash pose:  0.7980124990158699\n",
      "crash pose:  0.6720398940388785\n",
      "crash pose:  0.961009811860494\n",
      "crash pose:  0.8695061698443968\n",
      "Episode =   35, total reward = -32.910, last reward= -39.605, final pos=(   0.364,   0.302,   0.870 )\n",
      "crash pose:  0.9733701106025942\n",
      "crash pose:  0.8772490272074094\n",
      "crash pose:  0.9770768761406128\n",
      "crash pose:  0.869750464039298\n",
      "crash pose:  0.756864816124532\n",
      "crash pose:  0.9863539609347312\n",
      "crash pose:  0.8939073148355787\n",
      "crash pose:  0.9851086816797102\n",
      "crash pose:  0.8875617885247665\n",
      "crash pose:  0.9158577524655139\n",
      "Episode =   40, total reward = -12.486, last reward= -19.428, final pos=(   0.010,   0.072,   0.916 )\n",
      "crash pose:  0.935464236796759\n",
      "crash pose:  0.9943315644138577\n",
      "crash pose:  0.9084413526173326\n",
      "crash pose:  0.9616538606215681\n",
      "crash pose:  0.8716889913956163\n",
      "crash pose:  0.7777229638074393\n",
      "crash pose:  0.9383230856410104\n",
      "crash pose:  0.8416055238990306\n",
      "crash pose:  0.7412305794602201\n",
      "Episode =   45, total reward = -52.259, last reward= -59.660, final pos=(  -0.501,  -0.043,   0.741 )\n",
      "crash pose:  0.9794620692004825\n",
      "crash pose:  0.8917874737809155\n",
      "crash pose:  0.7952128446046252\n",
      "crash pose:  0.9397309503912037\n",
      "crash pose:  0.8583788922957448\n",
      "crash pose:  0.9401936331433577\n",
      "crash pose:  0.8524438387585336\n",
      "crash pose:  0.7551560874756472\n",
      "crash pose:  0.9724685435879313\n",
      "crash pose:  0.8805064337013517\n",
      "crash pose:  0.7886823629811393\n",
      "crash pose:  0.9649135736873943\n",
      "Episode =   50, total reward = -13.837, last reward= -19.665, final pos=(   0.711,  -0.401,   0.965 )\n",
      "crash pose:  0.977948102852317\n",
      "crash pose:  0.9343598423299363\n",
      "crash pose:  0.8304147488036738\n",
      "crash pose:  0.7264340894581135\n",
      "crash pose:  0.9855695439261504\n",
      "crash pose:  0.8901957187196217\n",
      "crash pose:  0.9460418849420711\n",
      "crash pose:  0.8622942883312723\n",
      "crash pose:  0.7769501732047335\n",
      "crash pose:  0.975136222010466\n",
      "crash pose:  0.8950794533899868\n",
      "Episode =   55, total reward = -32.158, last reward= -39.676, final pos=(  -0.801,  -0.118,   0.895 )\n",
      "crash pose:  0.9476543491414277\n",
      "crash pose:  0.9001575020773861\n",
      "crash pose:  0.774662846177154\n",
      "crash pose:  0.6392405716933909\n",
      "crash pose:  0.9805911485257266\n",
      "crash pose:  0.9428997485651943\n",
      "crash pose:  0.8101688121748012\n",
      "crash pose:  0.9341180241644165\n",
      "Episode =   60, total reward = -13.807, last reward= -20.284, final pos=(  -1.775,   1.451,   0.934 )\n",
      "crash pose:  0.9320420346235871\n",
      "crash pose:  0.9388151340632722\n",
      "crash pose:  0.9492193968133912\n",
      "crash pose:  0.8290915346597892\n",
      "crash pose:  0.9589421056179805\n",
      "crash pose:  0.9988806288362665\n",
      "crash pose:  0.8769187103956163\n",
      "Episode =   65, total reward = -33.504, last reward= -39.502, final pos=(  -0.164,   0.192,   0.877 )\n",
      "crash pose:  0.9366592386469346\n",
      "crash pose:  0.9818306450055548\n",
      "crash pose:  0.884735155132899\n",
      "crash pose:  0.7855192633447479\n",
      "crash pose:  0.8975275136536177\n",
      "crash pose:  0.9802539810764975\n",
      "crash pose:  0.8713808608617375\n",
      "crash pose:  0.9145949949349672\n",
      "crash pose:  0.8036881539626619\n",
      "Episode =   70, total reward = -32.674, last reward= -39.824, final pos=(  -0.281,   1.001,   0.804 )\n",
      "crash pose:  0.99577467702298\n",
      "crash pose:  0.9030204666811791\n",
      "crash pose:  0.8075807212312927\n",
      "crash pose:  0.9765205444857433\n",
      "crash pose:  0.9992511344625421\n",
      "crash pose:  0.9145807261587271\n",
      "crash pose:  0.8211719885155047\n",
      "crash pose:  0.9443419406705406\n",
      "crash pose:  0.8568390027620261\n",
      "crash pose:  0.7649045914463521\n",
      "crash pose:  0.9621654377768116\n",
      "crash pose:  0.862199939731174\n",
      "crash pose:  0.762989658565629\n",
      "Episode =   75, total reward = -51.741, last reward= -59.633, final pos=(  -0.081,   0.439,   0.763 )\n",
      "crash pose:  0.9447278003659213\n",
      "crash pose:  0.8632454374384246\n",
      "crash pose:  0.7764234405648227\n",
      "crash pose:  0.9613225161854861\n",
      "crash pose:  0.8351135406104743\n",
      "crash pose:  0.7059687168203967\n",
      "crash pose:  0.9964231403824764\n",
      "crash pose:  0.9058835911332199\n",
      "crash pose:  0.8073958327040686\n",
      "crash pose:  0.9328257574970908\n",
      "crash pose:  0.8348656400690833\n",
      "Episode =   80, total reward = -30.509, last reward= -39.765, final pos=(  -1.030,  -0.114,   0.835 )\n",
      "crash pose:  0.9852433224099416\n",
      "crash pose:  0.8875197005063631\n",
      "crash pose:  0.785828831177037\n",
      "crash pose:  0.9528041473802344\n",
      "crash pose:  0.8571981829265137\n",
      "crash pose:  0.7563295040889856\n",
      "crash pose:  0.9433293529864831\n",
      "crash pose:  0.838992796380336\n",
      "crash pose:  0.7289926547161708\n",
      "crash pose:  0.9139017981622941\n",
      "crash pose:  0.8186697504569413\n",
      "crash pose:  0.9145893507145363\n",
      "crash pose:  0.816403795147488\n",
      "Episode =   85, total reward = -31.412, last reward= -39.547, final pos=(  -0.230,  -0.109,   0.816 )\n",
      "crash pose:  0.9679111687790014\n",
      "crash pose:  0.8784632175961947\n",
      "crash pose:  0.7839484348149658\n",
      "crash pose:  0.9024531870460321\n",
      "crash pose:  0.7782608177452607\n",
      "crash pose:  0.6501020000899502\n",
      "crash pose:  0.9110563058647688\n",
      "crash pose:  0.8174673087909559\n",
      "crash pose:  0.9321523895031641\n",
      "crash pose:  0.9593974750696792\n",
      "crash pose:  0.871937152754128\n",
      "Episode =   90, total reward = -31.544, last reward= -39.903, final pos=(  -0.831,  -0.784,   0.872 )\n",
      "crash pose:  0.9822093726633893\n",
      "crash pose:  0.8884852494151093\n",
      "crash pose:  0.9480362673413806\n",
      "crash pose:  0.8495684844454792\n",
      "crash pose:  0.9028722635212144\n",
      "crash pose:  0.7965380434585726\n",
      "crash pose:  0.92694404407399\n",
      "crash pose:  0.7988679852300642\n",
      "crash pose:  0.9550825406478786\n",
      "Episode =   95, total reward = -12.904, last reward= -19.676, final pos=(   0.709,   0.372,   0.955 )\n",
      "crash pose:  0.9570710275566953\n",
      "crash pose:  0.8560509400994724\n",
      "crash pose:  0.970916451494286\n",
      "crash pose:  0.8792492155815375\n",
      "crash pose:  0.9796421603448985\n",
      "crash pose:  0.8516397564936695\n"
     ]
    },
    {
     "name": "stdout",
     "output_type": "stream",
     "text": [
      "crash pose:  0.9644539528052093\n",
      "crash pose:  0.8721018819587804\n",
      "crash pose:  0.7768799272089323\n",
      "crash pose:  0.9727039832045367\n",
      "Episode =  100, total reward = -12.249, last reward= -19.470, final pos=(   0.345,   0.042,   0.973 )\n",
      "crash pose:  0.9944641947401482\n",
      "crash pose:  0.9159335430585654\n",
      "crash pose:  0.8331968813936068\n",
      "crash pose:  0.9799121222364438\n",
      "crash pose:  0.897838674009967\n",
      "crash pose:  0.8180261515488798\n",
      "crash pose:  0.9126045590805978\n",
      "crash pose:  0.953875776444819\n",
      "crash pose:  0.8212372153467007\n",
      "crash pose:  0.6800387469586647\n",
      "crash pose:  0.9203164220199723\n",
      "crash pose:  0.8316348381364317\n",
      "crash pose:  0.7420715013306843\n",
      "Episode =  105, total reward = -52.744, last reward= -59.819, final pos=(  -0.634,  -0.448,   0.742 )\n",
      "crash pose:  0.9171847159111749\n",
      "crash pose:  0.8125363779895024\n",
      "crash pose:  0.7028308532852023\n",
      "crash pose:  0.9475832344738779\n",
      "crash pose:  0.840007845560432\n",
      "crash pose:  0.7288442918129756\n",
      "crash pose:  0.9640431681725721\n",
      "crash pose:  0.9551850180630325\n",
      "crash pose:  0.8583496388055937\n",
      "crash pose:  0.9951078419311793\n",
      "crash pose:  0.8971991309823739\n",
      "crash pose:  0.7933727618517314\n",
      "Episode =  110, total reward = -53.019, last reward= -59.684, final pos=(  -0.607,  -0.180,   0.793 )\n",
      "crash pose:  0.9796277533926531\n",
      "crash pose:  0.9924335021669926\n",
      "crash pose:  0.8794263078060405\n",
      "crash pose:  0.7581646507500779\n",
      "crash pose:  0.9685121468375497\n",
      "crash pose:  0.9419434523240355\n",
      "crash pose:  0.9988870446940574\n",
      "Episode =  115, total reward = -11.078, last reward= -19.698, final pos=(   0.277,   0.893,   0.999 )\n",
      "crash pose:  0.9508390921441113\n",
      "crash pose:  0.9391631071310155\n",
      "crash pose:  0.8894961857678045\n",
      "crash pose:  0.7708889299743509\n",
      "crash pose:  0.981093765526687\n",
      "crash pose:  0.9408663378044313\n",
      "crash pose:  0.8478196990919172\n",
      "Episode =  120, total reward = -33.006, last reward= -39.593, final pos=(  -0.387,   0.174,   0.848 )\n",
      "crash pose:  0.9896020723543867\n",
      "crash pose:  0.9571737841576903\n",
      "crash pose:  0.8660803836018319\n",
      "crash pose:  0.7700975914251293\n",
      "crash pose:  0.9703628784262607\n",
      "crash pose:  0.8798271867046644\n",
      "crash pose:  0.7840382256331416\n",
      "crash pose:  0.9387897889875897\n",
      "crash pose:  0.943183688898926\n",
      "crash pose:  0.8534149793177002\n",
      "crash pose:  0.7547977591876566\n",
      "Episode =  125, total reward = -54.076, last reward= -59.997, final pos=(   1.305,   0.500,   0.755 )\n",
      "crash pose:  0.9669987359480746\n",
      "crash pose:  0.8935028695048024\n",
      "crash pose:  0.9647564696047657\n",
      "crash pose:  0.8742070895060917\n",
      "crash pose:  0.7792103709242912\n",
      "crash pose:  0.9982775743241961\n",
      "crash pose:  0.8706570532467408\n",
      "crash pose:  0.8783553764650204\n",
      "crash pose:  0.9792561166066995\n",
      "crash pose:  0.9307540462436769\n",
      "crash pose:  0.8815261600367481\n",
      "Episode =  130, total reward = -51.470, last reward= -59.767, final pos=(   0.821,  -0.234,   0.882 )\n",
      "crash pose:  0.9925077342326668\n",
      "crash pose:  0.993566544516093\n",
      "crash pose:  0.8998235028531618\n",
      "crash pose:  0.9682175508530055\n",
      "crash pose:  0.9180199255671503\n",
      "crash pose:  0.8726485085809224\n",
      "crash pose:  0.9304373764053259\n",
      "crash pose:  0.8120719829417803\n",
      "crash pose:  0.6929373654755365\n",
      "crash pose:  0.9931463285771661\n",
      "Episode =  135, total reward = -11.409, last reward= -19.516, final pos=(  -0.359,   0.150,   0.993 )\n",
      "crash pose:  0.9946683796699979\n",
      "crash pose:  0.9113608810456507\n",
      "crash pose:  0.9782731634778927\n"
     ]
    },
    {
     "ename": "KeyboardInterrupt",
     "evalue": "",
     "output_type": "error",
     "traceback": [
      "\u001b[0;31m---------------------------------------------------------------------------\u001b[0m",
      "\u001b[0;31mKeyboardInterrupt\u001b[0m                         Traceback (most recent call last)",
      "\u001b[0;32m<ipython-input-18-37638a2673a0>\u001b[0m in \u001b[0;36m<module>\u001b[0;34m()\u001b[0m\n\u001b[1;32m      9\u001b[0m         \u001b[0;31m#max_force = max(max_force, action[0])\u001b[0m\u001b[0;34m\u001b[0m\u001b[0;34m\u001b[0m\u001b[0m\n\u001b[1;32m     10\u001b[0m         \u001b[0mnext_state\u001b[0m\u001b[0;34m,\u001b[0m \u001b[0mreward\u001b[0m\u001b[0;34m,\u001b[0m \u001b[0mdone\u001b[0m \u001b[0;34m=\u001b[0m \u001b[0mtask\u001b[0m\u001b[0;34m.\u001b[0m\u001b[0mstep\u001b[0m\u001b[0;34m(\u001b[0m\u001b[0maction\u001b[0m\u001b[0;34m)\u001b[0m\u001b[0;34m\u001b[0m\u001b[0m\n\u001b[0;32m---> 11\u001b[0;31m         \u001b[0magent\u001b[0m\u001b[0;34m.\u001b[0m\u001b[0mstep\u001b[0m\u001b[0;34m(\u001b[0m\u001b[0maction\u001b[0m\u001b[0;34m,\u001b[0m \u001b[0mreward\u001b[0m\u001b[0;34m,\u001b[0m \u001b[0mnext_state\u001b[0m\u001b[0;34m,\u001b[0m \u001b[0mdone\u001b[0m\u001b[0;34m)\u001b[0m\u001b[0;34m\u001b[0m\u001b[0m\n\u001b[0m\u001b[1;32m     12\u001b[0m         \u001b[0mstate\u001b[0m \u001b[0;34m=\u001b[0m \u001b[0mnext_state\u001b[0m\u001b[0;34m\u001b[0m\u001b[0m\n\u001b[1;32m     13\u001b[0m         \u001b[0mc_reward\u001b[0m \u001b[0;34m+=\u001b[0m \u001b[0mreward\u001b[0m\u001b[0;34m\u001b[0m\u001b[0m\n",
      "\u001b[0;32m~/RL-Quadcopter-2/agents/agent.py\u001b[0m in \u001b[0;36mstep\u001b[0;34m(self, action, reward, next_state, done)\u001b[0m\n\u001b[1;32m    225\u001b[0m         \u001b[0;32mif\u001b[0m \u001b[0mlen\u001b[0m\u001b[0;34m(\u001b[0m\u001b[0mself\u001b[0m\u001b[0;34m.\u001b[0m\u001b[0mmemory\u001b[0m\u001b[0;34m)\u001b[0m \u001b[0;34m>\u001b[0m \u001b[0mself\u001b[0m\u001b[0;34m.\u001b[0m\u001b[0mbatch_size\u001b[0m\u001b[0;34m:\u001b[0m\u001b[0;34m\u001b[0m\u001b[0m\n\u001b[1;32m    226\u001b[0m             \u001b[0mexperiences\u001b[0m \u001b[0;34m=\u001b[0m \u001b[0mself\u001b[0m\u001b[0;34m.\u001b[0m\u001b[0mmemory\u001b[0m\u001b[0;34m.\u001b[0m\u001b[0msample\u001b[0m\u001b[0;34m(\u001b[0m\u001b[0;34m)\u001b[0m\u001b[0;34m\u001b[0m\u001b[0m\n\u001b[0;32m--> 227\u001b[0;31m             \u001b[0mself\u001b[0m\u001b[0;34m.\u001b[0m\u001b[0mlearn\u001b[0m\u001b[0;34m(\u001b[0m\u001b[0mexperiences\u001b[0m\u001b[0;34m)\u001b[0m\u001b[0;34m\u001b[0m\u001b[0m\n\u001b[0m\u001b[1;32m    228\u001b[0m \u001b[0;34m\u001b[0m\u001b[0m\n\u001b[1;32m    229\u001b[0m         \u001b[0;31m# Roll over last state and action\u001b[0m\u001b[0;34m\u001b[0m\u001b[0;34m\u001b[0m\u001b[0m\n",
      "\u001b[0;32m~/RL-Quadcopter-2/agents/agent.py\u001b[0m in \u001b[0;36mlearn\u001b[0;34m(self, experiences)\u001b[0m\n\u001b[1;32m    267\u001b[0m         \u001b[0;31m# Train actor model (local)\u001b[0m\u001b[0;34m\u001b[0m\u001b[0;34m\u001b[0m\u001b[0m\n\u001b[1;32m    268\u001b[0m         \u001b[0maction_gradients\u001b[0m \u001b[0;34m=\u001b[0m \u001b[0mnp\u001b[0m\u001b[0;34m.\u001b[0m\u001b[0mreshape\u001b[0m\u001b[0;34m(\u001b[0m\u001b[0mself\u001b[0m\u001b[0;34m.\u001b[0m\u001b[0mcritic_local\u001b[0m\u001b[0;34m.\u001b[0m\u001b[0mget_action_gradients\u001b[0m\u001b[0;34m(\u001b[0m\u001b[0;34m[\u001b[0m\u001b[0mstates\u001b[0m\u001b[0;34m,\u001b[0m \u001b[0mactions\u001b[0m\u001b[0;34m,\u001b[0m \u001b[0;36m0\u001b[0m\u001b[0;34m]\u001b[0m\u001b[0;34m)\u001b[0m\u001b[0;34m,\u001b[0m \u001b[0;34m(\u001b[0m\u001b[0;34m-\u001b[0m\u001b[0;36m1\u001b[0m\u001b[0;34m,\u001b[0m \u001b[0mself\u001b[0m\u001b[0;34m.\u001b[0m\u001b[0maction_size\u001b[0m\u001b[0;34m)\u001b[0m\u001b[0;34m)\u001b[0m\u001b[0;34m\u001b[0m\u001b[0m\n\u001b[0;32m--> 269\u001b[0;31m         \u001b[0mself\u001b[0m\u001b[0;34m.\u001b[0m\u001b[0mactor_local\u001b[0m\u001b[0;34m.\u001b[0m\u001b[0mtrain_fn\u001b[0m\u001b[0;34m(\u001b[0m\u001b[0;34m[\u001b[0m\u001b[0mstates\u001b[0m\u001b[0;34m,\u001b[0m \u001b[0maction_gradients\u001b[0m\u001b[0;34m,\u001b[0m \u001b[0;36m1\u001b[0m\u001b[0;34m]\u001b[0m\u001b[0;34m)\u001b[0m  \u001b[0;31m# custom training function\u001b[0m\u001b[0;34m\u001b[0m\u001b[0m\n\u001b[0m\u001b[1;32m    270\u001b[0m \u001b[0;34m\u001b[0m\u001b[0m\n\u001b[1;32m    271\u001b[0m         \u001b[0;31m# Soft-update target models\u001b[0m\u001b[0;34m\u001b[0m\u001b[0;34m\u001b[0m\u001b[0m\n",
      "\u001b[0;32m/usr/local/lib/python3.6/site-packages/keras/backend/tensorflow_backend.py\u001b[0m in \u001b[0;36m__call__\u001b[0;34m(self, inputs)\u001b[0m\n\u001b[1;32m   2476\u001b[0m         \u001b[0msession\u001b[0m \u001b[0;34m=\u001b[0m \u001b[0mget_session\u001b[0m\u001b[0;34m(\u001b[0m\u001b[0;34m)\u001b[0m\u001b[0;34m\u001b[0m\u001b[0m\n\u001b[1;32m   2477\u001b[0m         updated = session.run(fetches=fetches, feed_dict=feed_dict,\n\u001b[0;32m-> 2478\u001b[0;31m                               **self.session_kwargs)\n\u001b[0m\u001b[1;32m   2479\u001b[0m         \u001b[0;32mreturn\u001b[0m \u001b[0mupdated\u001b[0m\u001b[0;34m[\u001b[0m\u001b[0;34m:\u001b[0m\u001b[0mlen\u001b[0m\u001b[0;34m(\u001b[0m\u001b[0mself\u001b[0m\u001b[0;34m.\u001b[0m\u001b[0moutputs\u001b[0m\u001b[0;34m)\u001b[0m\u001b[0;34m]\u001b[0m\u001b[0;34m\u001b[0m\u001b[0m\n\u001b[1;32m   2480\u001b[0m \u001b[0;34m\u001b[0m\u001b[0m\n",
      "\u001b[0;32m/usr/local/lib/python3.6/site-packages/tensorflow/python/client/session.py\u001b[0m in \u001b[0;36mrun\u001b[0;34m(self, fetches, feed_dict, options, run_metadata)\u001b[0m\n\u001b[1;32m    903\u001b[0m     \u001b[0;32mtry\u001b[0m\u001b[0;34m:\u001b[0m\u001b[0;34m\u001b[0m\u001b[0m\n\u001b[1;32m    904\u001b[0m       result = self._run(None, fetches, feed_dict, options_ptr,\n\u001b[0;32m--> 905\u001b[0;31m                          run_metadata_ptr)\n\u001b[0m\u001b[1;32m    906\u001b[0m       \u001b[0;32mif\u001b[0m \u001b[0mrun_metadata\u001b[0m\u001b[0;34m:\u001b[0m\u001b[0;34m\u001b[0m\u001b[0m\n\u001b[1;32m    907\u001b[0m         \u001b[0mproto_data\u001b[0m \u001b[0;34m=\u001b[0m \u001b[0mtf_session\u001b[0m\u001b[0;34m.\u001b[0m\u001b[0mTF_GetBuffer\u001b[0m\u001b[0;34m(\u001b[0m\u001b[0mrun_metadata_ptr\u001b[0m\u001b[0;34m)\u001b[0m\u001b[0;34m\u001b[0m\u001b[0m\n",
      "\u001b[0;32m/usr/local/lib/python3.6/site-packages/tensorflow/python/client/session.py\u001b[0m in \u001b[0;36m_run\u001b[0;34m(self, handle, fetches, feed_dict, options, run_metadata)\u001b[0m\n\u001b[1;32m   1135\u001b[0m     \u001b[0;32mif\u001b[0m \u001b[0mfinal_fetches\u001b[0m \u001b[0;32mor\u001b[0m \u001b[0mfinal_targets\u001b[0m \u001b[0;32mor\u001b[0m \u001b[0;34m(\u001b[0m\u001b[0mhandle\u001b[0m \u001b[0;32mand\u001b[0m \u001b[0mfeed_dict_tensor\u001b[0m\u001b[0;34m)\u001b[0m\u001b[0;34m:\u001b[0m\u001b[0;34m\u001b[0m\u001b[0m\n\u001b[1;32m   1136\u001b[0m       results = self._do_run(handle, final_targets, final_fetches,\n\u001b[0;32m-> 1137\u001b[0;31m                              feed_dict_tensor, options, run_metadata)\n\u001b[0m\u001b[1;32m   1138\u001b[0m     \u001b[0;32melse\u001b[0m\u001b[0;34m:\u001b[0m\u001b[0;34m\u001b[0m\u001b[0m\n\u001b[1;32m   1139\u001b[0m       \u001b[0mresults\u001b[0m \u001b[0;34m=\u001b[0m \u001b[0;34m[\u001b[0m\u001b[0;34m]\u001b[0m\u001b[0;34m\u001b[0m\u001b[0m\n",
      "\u001b[0;32m/usr/local/lib/python3.6/site-packages/tensorflow/python/client/session.py\u001b[0m in \u001b[0;36m_do_run\u001b[0;34m(self, handle, target_list, fetch_list, feed_dict, options, run_metadata)\u001b[0m\n\u001b[1;32m   1353\u001b[0m     \u001b[0;32mif\u001b[0m \u001b[0mhandle\u001b[0m \u001b[0;32mis\u001b[0m \u001b[0;32mNone\u001b[0m\u001b[0;34m:\u001b[0m\u001b[0;34m\u001b[0m\u001b[0m\n\u001b[1;32m   1354\u001b[0m       return self._do_call(_run_fn, self._session, feeds, fetches, targets,\n\u001b[0;32m-> 1355\u001b[0;31m                            options, run_metadata)\n\u001b[0m\u001b[1;32m   1356\u001b[0m     \u001b[0;32melse\u001b[0m\u001b[0;34m:\u001b[0m\u001b[0;34m\u001b[0m\u001b[0m\n\u001b[1;32m   1357\u001b[0m       \u001b[0;32mreturn\u001b[0m \u001b[0mself\u001b[0m\u001b[0;34m.\u001b[0m\u001b[0m_do_call\u001b[0m\u001b[0;34m(\u001b[0m\u001b[0m_prun_fn\u001b[0m\u001b[0;34m,\u001b[0m \u001b[0mself\u001b[0m\u001b[0;34m.\u001b[0m\u001b[0m_session\u001b[0m\u001b[0;34m,\u001b[0m \u001b[0mhandle\u001b[0m\u001b[0;34m,\u001b[0m \u001b[0mfeeds\u001b[0m\u001b[0;34m,\u001b[0m \u001b[0mfetches\u001b[0m\u001b[0;34m)\u001b[0m\u001b[0;34m\u001b[0m\u001b[0m\n",
      "\u001b[0;32m/usr/local/lib/python3.6/site-packages/tensorflow/python/client/session.py\u001b[0m in \u001b[0;36m_do_call\u001b[0;34m(self, fn, *args)\u001b[0m\n\u001b[1;32m   1359\u001b[0m   \u001b[0;32mdef\u001b[0m \u001b[0m_do_call\u001b[0m\u001b[0;34m(\u001b[0m\u001b[0mself\u001b[0m\u001b[0;34m,\u001b[0m \u001b[0mfn\u001b[0m\u001b[0;34m,\u001b[0m \u001b[0;34m*\u001b[0m\u001b[0margs\u001b[0m\u001b[0;34m)\u001b[0m\u001b[0;34m:\u001b[0m\u001b[0;34m\u001b[0m\u001b[0m\n\u001b[1;32m   1360\u001b[0m     \u001b[0;32mtry\u001b[0m\u001b[0;34m:\u001b[0m\u001b[0;34m\u001b[0m\u001b[0m\n\u001b[0;32m-> 1361\u001b[0;31m       \u001b[0;32mreturn\u001b[0m \u001b[0mfn\u001b[0m\u001b[0;34m(\u001b[0m\u001b[0;34m*\u001b[0m\u001b[0margs\u001b[0m\u001b[0;34m)\u001b[0m\u001b[0;34m\u001b[0m\u001b[0m\n\u001b[0m\u001b[1;32m   1362\u001b[0m     \u001b[0;32mexcept\u001b[0m \u001b[0merrors\u001b[0m\u001b[0;34m.\u001b[0m\u001b[0mOpError\u001b[0m \u001b[0;32mas\u001b[0m \u001b[0me\u001b[0m\u001b[0;34m:\u001b[0m\u001b[0;34m\u001b[0m\u001b[0m\n\u001b[1;32m   1363\u001b[0m       \u001b[0mmessage\u001b[0m \u001b[0;34m=\u001b[0m \u001b[0mcompat\u001b[0m\u001b[0;34m.\u001b[0m\u001b[0mas_text\u001b[0m\u001b[0;34m(\u001b[0m\u001b[0me\u001b[0m\u001b[0;34m.\u001b[0m\u001b[0mmessage\u001b[0m\u001b[0;34m)\u001b[0m\u001b[0;34m\u001b[0m\u001b[0m\n",
      "\u001b[0;32m/usr/local/lib/python3.6/site-packages/tensorflow/python/client/session.py\u001b[0m in \u001b[0;36m_run_fn\u001b[0;34m(session, feed_dict, fetch_list, target_list, options, run_metadata)\u001b[0m\n\u001b[1;32m   1338\u001b[0m         \u001b[0;32melse\u001b[0m\u001b[0;34m:\u001b[0m\u001b[0;34m\u001b[0m\u001b[0m\n\u001b[1;32m   1339\u001b[0m           return tf_session.TF_Run(session, options, feed_dict, fetch_list,\n\u001b[0;32m-> 1340\u001b[0;31m                                    target_list, status, run_metadata)\n\u001b[0m\u001b[1;32m   1341\u001b[0m \u001b[0;34m\u001b[0m\u001b[0m\n\u001b[1;32m   1342\u001b[0m     \u001b[0;32mdef\u001b[0m \u001b[0m_prun_fn\u001b[0m\u001b[0;34m(\u001b[0m\u001b[0msession\u001b[0m\u001b[0;34m,\u001b[0m \u001b[0mhandle\u001b[0m\u001b[0;34m,\u001b[0m \u001b[0mfeed_dict\u001b[0m\u001b[0;34m,\u001b[0m \u001b[0mfetch_list\u001b[0m\u001b[0;34m)\u001b[0m\u001b[0;34m:\u001b[0m\u001b[0;34m\u001b[0m\u001b[0m\n",
      "\u001b[0;31mKeyboardInterrupt\u001b[0m: "
     ]
    }
   ],
   "source": [
    "\n",
    "\n",
    "for i_episode in range(1, num_episodes+1):\n",
    "    state = agent.reset_episode() # start a new episode\n",
    "    c_reward = 0\n",
    "    #max_force = 0\n",
    "    while True:\n",
    "        action = agent.act(state)\n",
    "        #max_force = max(max_force, action[0])\n",
    "        next_state, reward, done = task.step(action)\n",
    "        agent.step(action, reward, next_state, done)\n",
    "        state = next_state\n",
    "        c_reward += reward\n",
    "        if done:\n",
    "            if i_episode%5 == 0:\n",
    "                print(\"Episode = {:4d}, total reward = {:7.3f}, last reward= {:7.3f}, final pos=( {:7.3f}, {:7.3f}, {:7.3f} )\".format(i_episode, c_reward, reward, task.sim.pose[0], task.sim.pose[1], task.sim.pose[2]))  # [debug]\n",
    "            break"
   ]
  },
  {
   "cell_type": "markdown",
   "metadata": {
    "collapsed": true
   },
   "source": [
    "## Plot the Rewards\n",
    "\n",
    "Once you are satisfied with your performance, plot the episode rewards, either from a single run, or averaged over multiple runs. "
   ]
  },
  {
   "cell_type": "code",
   "execution_count": null,
   "metadata": {},
   "outputs": [],
   "source": [
    "## TODO: Plot the rewards.\n",
    "#runtime = 5.                                     # time limit of the episode\n",
    "#init_pose = np.array([0., 0., 10., 0., 0., 0.])  # initial pose\n",
    "#init_velocities = np.array([0., 0., 0.])         # initial velocities\n",
    "#init_angle_velocities = np.array([0., 0., 0.])   # initial angle velocities\n",
    "file_output = 'data.txt'                         # file name for saved results\n",
    "\n",
    "# Setup\n",
    "#task = Task(runtime=runtime, target_pos=target_pos)\n",
    "#agent = DDPG(task)\n",
    "done = False\n",
    "labels = ['time', 'x', 'y', 'z', 'phi', 'theta', 'psi', 'x_velocity',\n",
    "          'y_velocity', 'z_velocity', 'phi_velocity', 'theta_velocity',\n",
    "          'psi_velocity','rotor_speed1', 'rotor_speed2', 'rotor_speed3', 'rotor_speed4', 'Q-value']\n",
    "results = {x : [] for x in labels}\n",
    "\n",
    "# Run the simulation, and save the results.\n",
    "with open(file_output, 'w') as csvfile:\n",
    "    writer = csv.writer(csvfile)\n",
    "    writer.writerow(labels)\n",
    "    #agent.disableExplore()\n",
    "    state = agent.reset_episode()\n",
    "    action_up = np.array([410])\n",
    "    action_down = np.array([400])\n",
    "    while True:\n",
    "        action = agent.act(state)\n",
    "        #if task.sim.pose[2]>=10:\n",
    "        #    action = action_down+agent.noise.sample()\n",
    "        #else:\n",
    "        #    action = action_up+agent.noise.sample()\n",
    "        #task.step(action)\n",
    "        next_state, reward, done = task.step(action)\n",
    "        agent.step(action, reward, next_state, done)\n",
    "        qvalue = agent.critic_target.model.predict_on_batch([np.array([state]),np.array([action])])\n",
    "        #print(qvalue[0])\n",
    "        to_write = [task.sim.time] + list(task.sim.pose) + list(task.sim.v) + list(task.sim.angular_v) + list(action)+list(qvalue[0])\n",
    "        for ii in range(len(labels)):\n",
    "            results[labels[ii]].append(to_write[ii])\n",
    "        writer.writerow(to_write)\n",
    "        if done:\n",
    "            break\n",
    "        state = next_state"
   ]
  },
  {
   "cell_type": "code",
   "execution_count": null,
   "metadata": {},
   "outputs": [],
   "source": [
    "plt.plot(results['time'], results['x'], label='x')\n",
    "plt.plot(results['time'], results['y'], label='y')\n",
    "plt.plot(results['time'], results['z'], label='z')\n",
    "plt.legend()\n",
    "_ = plt.ylim()"
   ]
  },
  {
   "cell_type": "code",
   "execution_count": null,
   "metadata": {},
   "outputs": [],
   "source": [
    "plt.plot(results['time'], results['x_velocity'], label='x_hat')\n",
    "plt.plot(results['time'], results['y_velocity'], label='y_hat')\n",
    "plt.plot(results['time'], results['z_velocity'], label='z_hat')\n",
    "plt.legend()\n",
    "_ = plt.ylim()"
   ]
  },
  {
   "cell_type": "code",
   "execution_count": null,
   "metadata": {},
   "outputs": [],
   "source": [
    "plt.plot(results['time'], results['rotor_speed1'], label='Rotor 1 revolutions / second')\n",
    "plt.plot(results['time'], results['rotor_speed2'], label='Rotor 2 revolutions / second')\n",
    "plt.plot(results['time'], results['rotor_speed3'], label='Rotor 3 revolutions / second')\n",
    "plt.plot(results['time'], results['rotor_speed4'], label='Rotor 4 revolutions / second')\n",
    "plt.legend()\n",
    "_ = plt.ylim()"
   ]
  },
  {
   "cell_type": "code",
   "execution_count": null,
   "metadata": {},
   "outputs": [],
   "source": [
    "plt.plot(results['time'], results['action'], label='action')\n",
    "plt.legend()\n",
    "_ = plt.ylim()"
   ]
  },
  {
   "cell_type": "code",
   "execution_count": null,
   "metadata": {},
   "outputs": [],
   "source": [
    "plt.plot(results['time'], results['phi'], label='phi')\n",
    "plt.plot(results['time'], results['theta'], label='theta')\n",
    "plt.plot(results['time'], results['psi'], label='psi')\n",
    "plt.legend()\n",
    "_ = plt.ylim()"
   ]
  },
  {
   "cell_type": "code",
   "execution_count": null,
   "metadata": {},
   "outputs": [],
   "source": [
    "plt.plot(results['time'], results['Q-value'], label='Q-value')\n",
    "plt.legend()\n",
    "_ = plt.ylim()"
   ]
  },
  {
   "cell_type": "markdown",
   "metadata": {
    "collapsed": true
   },
   "source": [
    "## Reflections\n",
    "\n",
    "**Question 1**: Describe the task that you specified in `task.py`.  How did you design the reward function?\n",
    "\n",
    "**Answer**:"
   ]
  },
  {
   "cell_type": "markdown",
   "metadata": {},
   "source": [
    "**Question 2**: Discuss your agent briefly, using the following questions as a guide:\n",
    "\n",
    "- What learning algorithm(s) did you try? What worked best for you?\n",
    "- What was your final choice of hyperparameters (such as $\\alpha$, $\\gamma$, $\\epsilon$, etc.)?\n",
    "- What neural network architecture did you use (if any)? Specify layers, sizes, activation functions, etc.\n",
    "\n",
    "**Answer**:"
   ]
  },
  {
   "cell_type": "markdown",
   "metadata": {},
   "source": [
    "**Question 3**: Using the episode rewards plot, discuss how the agent learned over time.\n",
    "\n",
    "- Was it an easy task to learn or hard?\n",
    "- Was there a gradual learning curve, or an aha moment?\n",
    "- How good was the final performance of the agent? (e.g. mean rewards over the last 10 episodes)\n",
    "\n",
    "**Answer**:"
   ]
  },
  {
   "cell_type": "markdown",
   "metadata": {},
   "source": [
    "**Question 4**: Briefly summarize your experience working on this project. You can use the following prompts for ideas.\n",
    "\n",
    "- What was the hardest part of the project? (e.g. getting started, plotting, specifying the task, etc.)\n",
    "- Did you find anything interesting in how the quadcopter or your agent behaved?\n",
    "\n",
    "**Answer**:"
   ]
  }
 ],
 "metadata": {
  "anaconda-cloud": {},
  "kernelspec": {
   "display_name": "Python 3",
   "language": "python",
   "name": "python3"
  },
  "language_info": {
   "codemirror_mode": {
    "name": "ipython",
    "version": 3
   },
   "file_extension": ".py",
   "mimetype": "text/x-python",
   "name": "python",
   "nbconvert_exporter": "python",
   "pygments_lexer": "ipython3",
   "version": "3.6.4"
  }
 },
 "nbformat": 4,
 "nbformat_minor": 2
}
